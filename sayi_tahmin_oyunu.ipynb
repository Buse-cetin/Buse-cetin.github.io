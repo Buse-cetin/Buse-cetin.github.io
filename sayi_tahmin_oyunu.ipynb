{
  "nbformat": 4,
  "nbformat_minor": 0,
  "metadata": {
    "colab": {
      "provenance": [],
      "authorship_tag": "ABX9TyMVftWm0TpEK+ubcXVhXGOi",
      "include_colab_link": true
    },
    "kernelspec": {
      "name": "python3",
      "display_name": "Python 3"
    },
    "language_info": {
      "name": "python"
    }
  },
  "cells": [
    {
      "cell_type": "markdown",
      "metadata": {
        "id": "view-in-github",
        "colab_type": "text"
      },
      "source": [
        "<a href=\"https://colab.research.google.com/github/Buse-cetin/Buse-cetin.github.io/blob/main/sayi_tahmin_oyunu.ipynb\" target=\"_parent\"><img src=\"https://colab.research.google.com/assets/colab-badge.svg\" alt=\"Open In Colab\"/></a>"
      ]
    },
    {
      "cell_type": "markdown",
      "source": [
        "Bilgisayar 1-10 arası bir sayı tutar ve kullanıcı bu sayıyı bulmayaçalışır. Kaç tahmin sonucunda doğru sayıyı bulduğumuz bilgisi bize verilir."
      ],
      "metadata": {
        "id": "PKTaBMtmFGdK"
      }
    },
    {
      "cell_type": "code",
      "execution_count": null,
      "metadata": {
        "id": "8cbXcavYC4z4"
      },
      "outputs": [],
      "source": [
        "import random\n",
        "sayi = random.randint(1,10)\n",
        "count = 0\n",
        "kullanici_verisi = 0\n",
        "\n",
        "while(True):\n",
        "  kullanici_verisi = input(\"Tahmininizi Giriniz : \")\n",
        "  count +=1\n",
        "  if(kullanici_verisi ==\"Çık\"):\n",
        "    print(\"Oyundan Çıkış Yaptınız...\")\n",
        "    break\n",
        "\n",
        "    kullanici_verisi = int(kullanici_verisi)\n",
        "    if(kullanici_verisi > sayi):\n",
        "      print(\"Daha küçük bir sayı tahmin ediniz...\")\n",
        "\n",
        "    elif(kullanici_verisi < sayi):\n",
        "     print(\"Daha büyük bir sayı tahmin ediiz.\")\n",
        "\n",
        "    else:\n",
        "      print(\"Doğru Tahmın. Tebrikler!\")\n",
        "      print(\"Tahmin sayınız: \", str(count))\n",
        "      break"
      ]
    },
    {
      "cell_type": "code",
      "source": [
        "import random\n",
        "sayi = random.randint(1,10)\n",
        "count = 0\n",
        "kullanici_verisi = 0\n",
        "\n",
        "while(True):\n",
        "  kullanici_verisi = input(\"Tahmininizi Giriniz :\")\n",
        "  count +=1\n",
        "  if(kullanici_verisi ==\"Çık\"):\n",
        "    print(\"Oyundan Çıktınız\")\n",
        "    break\n",
        "\n",
        "  kullanici_verisi = int(kullanici_verisi)\n",
        "  if(kullanici_verisi > sayi):\n",
        "    print(\"Daha Küçük Bir Sayı Tahmin Edin!\")\n",
        "\n",
        "  elif(kullanici_verisi < sayi):\n",
        "    print(\"Daha Büyük Bir Sayı Tahmin Edin!\")\n",
        "\n",
        "  else:\n",
        "    print(\"Doğru Tahmin, Tebrikler!\")\n",
        "    print(\"Tahmin Sayın :\", str(count))\n",
        "    break\n"
      ],
      "metadata": {
        "id": "239zEuEUFWoT",
        "colab": {
          "base_uri": "https://localhost:8080/"
        },
        "outputId": "79e6ed42-de19-491a-9ea3-47eb5cf4ac54"
      },
      "execution_count": 8,
      "outputs": [
        {
          "output_type": "stream",
          "name": "stdout",
          "text": [
            "Tahmininizi Giriniz :5\n",
            "Daha Küçük Bir Sayı Tahmin Edin!\n",
            "Tahmininizi Giriniz :3\n",
            "Daha Küçük Bir Sayı Tahmin Edin!\n",
            "Tahmininizi Giriniz :2\n",
            "Doğru Tahmin, Tebrikler!\n",
            "Tahmin Sayın : 3\n"
          ]
        }
      ]
    }
  ]
}